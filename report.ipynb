{
 "cells": [
  {
   "cell_type": "markdown",
   "id": "cd395e45",
   "metadata": {},
   "source": [
    "# Information Based Models\n",
    "\n",
    "**Team:**\n",
    "- Carolina Martínez Escalante\n",
    "- Enrique Tonatiuh Pérez Cortés Barba\n",
    "- Antonio Lomelí Ureña\n",
    "\n",
    "## Context\n",
    "\n",
    "### The Spread\n",
    "\n",
    "The spread between bid and ask prices in financial markets is one of the main subjects of study in market microstructure.\n",
    "\n",
    "Two dominant theories explain the spread in completely different ways. Although both acknowledge that the market maker provides liquidity and incurs a cost for doing so, the information-based and price-based (or market efficiency-based) models conceptualize that cost in fundamentally different terms.\n",
    "\n",
    "### Richard Roll, Efficient Market Model\n",
    "\n",
    "On one side, the spread in an efficient market, as described by Richard Roll, is explained by the transaction costs involved in trading the asset. The value of the asset — also called the midprice — follows a stochastic process, and the spread (the distance between the midpoint and the bid and ask prices) is assumed to be symmetric and constant.\n",
    "\n",
    "The model implies a negative serial correlation in observed price changes, which arises from the alternation between buyer- and seller-initiated trades. This pattern reflects the mechanical effect of the bid-ask bounce, not the arrival of new information. Therefore, the spread remains constant when no new information enters the market.\n",
    "\n",
    "Therefor the mani assumptions of this model are:\n",
    "- There's no asimetric information\n",
    "- The price reflects all the available information, and it follows a random walk\n",
    "- The spread is constant and simmetrical\n",
    "\n",
    "### Copeland and Galai, Information Based Model\n",
    "\n",
    "This model steps aside of the efficient market hypothesis, as its main assumption is that the market maker -the liquidity provider- has less available information than the \"informed traders\". These traders are likely to profit from any transaction with the market maker, who will incur losses by, for example, selling an asset at a lower price than what informed traders expect — and what the asset is most likely actually worth.\n",
    "\n",
    "But there's another group of traders — the uninformed traders — whose main priority is liquidity. Therefore, the market maker would benefit from any transaction with this type of trader.\n",
    "\n",
    "Now, from the market maker’s point of view, there is a balance between the profits made from uninformed traders and the losses incurred when trading with informed traders. With this in mind, the market maker can estimate the expected profit (or loss) from all trades and compesate it by fixing a spread.\n",
    "\n",
    "The spread can also be conceptualized as a real option, where the traders (buyers or sellers) have the option to execute their trades at any given time, while the market maker has the obligation to fulfill the transaction. In this sense, the spread is equivalent to the premium of a real option, even in the absence of inmmediate transaction, the market maker must fix a spread to compensate the informational risk.\n",
    "\n",
    "## Conclusion\n",
    "\n",
    "In conclusion, Richard Roll and Copeland & Galai offer fundamentally different perspectives on the nature and origin of the bid-ask spread, while both recognise the importance of it in the market mictrostructure and for the market maker. \n",
    "\n",
    "Roll’s model, grounded in the efficient market hypothesis, views the spread as a mechanical outcome of transaction costs and trade sequencing, with no role for asymmetric information. In contrast, Copeland & Galai adopt an information-based approach, where the spread compensates the market maker for the risk of trading against better-informed participants.\n",
    "\n",
    "While Roll emphasizes the technical or structural features of trading — such as bid-ask bounce and price reversals — Copeland & Galai highlight the behavior of market participants under asymmetric information, distinguishing between informed and uninformed traders. Moreover, by conceptualizing the spread as the premium of a real option, Copeland & Galai offer a dynamic view of liquidity provision, in which the market maker sells optionality to traders in exchange for bearing informational risk. This framework may better reflect real-world market conditions, particularly during periods of stress, when uncertainty and expectations play a dominant role in trading behavior.\n",
    "\n",
    "So Richard Roll's model explain that spreads can arise from frictions in trade execution, and it's quite simple and cheap to find a spread that  makes sense, using it's covariance formula. In contrast, Copeland and Galai view the spread as a form of strategic pricing under uncertainty, where the market maker charges a “premium” at all times to compensate for the informational risk they bear.\n",
    "\n",
    "Both views combined may be excellent for trading strategies, as they both approach the different transaction prices in different, yet so important and valid views of the market. Focusing on the Galai and Copeland model, some of the practical applications could be:\n",
    "\n",
    "- Pricing Strategies of the Market Maker: Specially under periods of stress or where asymetrical information makes a lot of difference (before earnings results for example), the market maker has a reference of the size of the spread.\n",
    "- Trading Startegies: The same logic as the market maker but for the trader point of view. By using this model he can create information of what the spread should be under certain market conditions, therefore if the real market spread seems higher or lower, the trader must adjust the strategy, having this theoretical framework is an advantage.\n",
    "- Valuate Liquidity: Just as Richard Roll's model gives a \"measure\" of the value of liquidity (the spread) in a financial market, Copeland and Galai give a really good measure of liquidity under asymetrical information. Then the spread calculated can be seen as a better indicator of liquidity for certain market conditions or when the autocovariance of the returns is positive and we can't use Richard Roll's model.\n"
   ]
  }
 ],
 "metadata": {
  "kernelspec": {
   "display_name": "Python 3",
   "language": "python",
   "name": "python3"
  },
  "language_info": {
   "name": "python",
   "version": "3.13.3"
  }
 },
 "nbformat": 4,
 "nbformat_minor": 5
}
