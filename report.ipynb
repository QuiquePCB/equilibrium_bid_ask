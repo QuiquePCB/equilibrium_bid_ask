{
 "cells": [
  {
   "cell_type": "markdown",
   "id": "cd395e45",
   "metadata": {},
   "source": [
    "# Information Based Models\n",
    "\n",
    "**Team:**\n",
    "- Carolina Martínez Escalante\n",
    "- Enrique Tonatiuh Pérez Cortés Barba\n",
    "- Antonio Lomelí Ureña\n",
    "\n",
    "## Context\n",
    "\n",
    "### The Spread\n",
    "\n",
    "The spread between bid and ask prices in financial markets is one of the main subjects of study in market microstructure.\n",
    "\n",
    "Two dominant theories explain the spread in completely different ways. Although both acknowledge that the market maker provides liquidity and incurs a cost for doing so, the information-based and price-based (or market efficiency-based) models conceptualize that cost in fundamentally different terms.\n",
    "\n",
    "### Richard Roll, Efficient Market Model\n",
    "\n",
    "On one side, the spread in an efficient market, as described by Richard Roll, is explained by the transaction costs involved in trading the asset. The value of the asset — also called the midprice — follows a stochastic process, and the spread (the distance between the midpoint and the bid and ask prices) is assumed to be symmetric and constant.\n",
    "\n",
    "The model implies a negative serial correlation in observed price changes, which arises from the alternation between buyer- and seller-initiated trades. This pattern reflects the mechanical effect of the bid-ask bounce, not the arrival of new information. Therefore, the spread remains constant when no new information enters the market.\n",
    "\n",
    "Therefor the mani assumptions of this model are:\n",
    "- There's no asimetric information\n",
    "- The price reflects all the available information, and it follows a random walk\n",
    "- The spread is constant and simmetrical\n",
    "\n",
    "### Copeland and Galai, Information Based Model\n",
    "\n",
    "This model steps aside of the efficient market hypothesis, as its main assumption is that the market maker -the liquidity provider- has less available information than the \"informed traders\". These traders are likely to profit from any transaction with the market maker, who will incur losses by, for example, selling an asset at a lower price than what informed traders expect — and what the asset is most likely actually worth.\n",
    "\n",
    "But there's another group of traders — the uninformed traders — whose main priority is liquidity. Therefore, the market maker would benefit from any transaction with this type of trader.\n",
    "\n",
    "Now, from the market maker’s point of view, there is a balance between the profits made from uninformed traders and the losses incurred when trading with informed traders. With this in mind, the market maker can estimate the expected profit (or loss) from all trades and compesate it by fixing a spread.\n",
    "\n",
    "The spread can also be conceptualized as a real option, where the traders (buyers or sellers) have the option to execute their trades at any given time, while the market maker has the obligation to fulfill the transaction. In this sense, the spread is equivalent to the premium of a real option, even in the absence of inmmediate transaction, the market maker must fix a spread to compensate the risk of informed traders.\n",
    "\n",
    "## Conclusion\n",
    "\n",
    "\n"
   ]
  }
 ],
 "metadata": {
  "kernelspec": {
   "display_name": "Python 3",
   "language": "python",
   "name": "python3"
  },
  "language_info": {
   "name": "python",
   "version": "3.13.3"
  }
 },
 "nbformat": 4,
 "nbformat_minor": 5
}
